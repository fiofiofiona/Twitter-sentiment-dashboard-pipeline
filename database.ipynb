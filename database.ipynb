{
 "cells": [
  {
   "cell_type": "code",
   "execution_count": null,
   "metadata": {},
   "outputs": [],
   "source": [
    "### {“tweet content” :{ Timestamp: DDMMYYYY, Twitter account (str), Num of comments/retweets (int):, Comment sentiment (str):, Tweet sentiment (str):, } }\n",
    "\n",
    "# 1. request (parameters) --> sqs --> tweepy access data\n",
    "# 2. (select data) data --> dump to s3\n",
    "# 3. select data to store in dynamodb?\n",
    "# 4. conduct sentiment analysis on data --> store in dynamodb? // parallelize by sfn\n",
    "# 5. spark app?\n"
   ]
  },
  {
   "cell_type": "code",
   "execution_count": 3,
   "metadata": {},
   "outputs": [
    {
     "data": {
      "text/plain": [
       "{'id': 1524707709190352896,\n",
       " 'TimeStamp': 'Thu May 12 11:07:00 +0000 2022',\n",
       " 'Twitter account': '26458435',\n",
       " 'Num of comments/retweets': 11257}"
      ]
     },
     "execution_count": 3,
     "metadata": {},
     "output_type": "execute_result"
    }
   ],
   "source": [
    "# item_dict = {\n",
    "#             'id': survey_data['id'],\n",
    "#             'TimeStamp': survey_data['created_at'],\n",
    "#             'Twitter account': survey_data['user']['id_str'],\n",
    "#             'Num of comments/retweets': survey_data['retweet_count'],\n",
    "#             'Likes': survey_data['favourites_count'],\n",
    "#             # 'Comment sentiment': report_times,\n",
    "#             # 'Tweet sentiment': \n",
    "#         }\n",
    "# item_dict"
   ]
  },
  {
   "cell_type": "code",
   "execution_count": 1,
   "metadata": {},
   "outputs": [],
   "source": [
    "import tweepy\n",
    "import json\n",
    "\n",
    "keys = {'consumer_key' : \"tr0R2Csjg2rKqWbaTGnvCOLKo\",\n",
    "        'consumer_secret' : \"pqd5aVWeypQq3KrUXxUxY5MTJEwUq25unlDApNRTzq78rUT38K\",\n",
    "        'access_token' : \"819043815604375552-gp2URG92uuUTVtNTJbOzbKZMkgG1yey\",\n",
    "        'access_token_secret' : \"5FQhsXDoSjlnwqo6ortXWbmqvqRWjpmfFc2ueirAYhn4w\"}\n",
    "auth = tweepy.OAuth1UserHandler(consumer_key=keys.get('consumer_key'), \n",
    "                                    consumer_secret=keys.get('consumer_secret'), \n",
    "                                    access_token=keys.get('access_token'),\n",
    "                                    access_token_secret=keys.get('access_token_secret'))\n",
    "api = tweepy.API(auth)\n",
    "response = api.search_tweets('abortion', lang = 'en', result_type = 'mixed')\n",
    "# json.dumps(response, default=str)\n"
   ]
  },
  {
   "cell_type": "code",
   "execution_count": 2,
   "metadata": {},
   "outputs": [
    {
     "data": {
      "text/plain": [
       "{'created_at': 'Tue May 31 16:30:00 +0000 2022',\n",
       " 'id': 1531674365242359808,\n",
       " 'id_str': '1531674365242359808',\n",
       " 'text': \"It's the filibuster or gun reform. It's the filibuster or abortion. It's the filibuster or voting rights. This shouldn't be a hard decision.\",\n",
       " 'truncated': False,\n",
       " 'entities': {'hashtags': [], 'symbols': [], 'user_mentions': [], 'urls': []},\n",
       " 'metadata': {'result_type': 'popular', 'iso_language_code': 'en'},\n",
       " 'source': '<a href=\"https://about.twitter.com/products/tweetdeck\" rel=\"nofollow\">TweetDeck</a>',\n",
       " 'in_reply_to_status_id': None,\n",
       " 'in_reply_to_status_id_str': None,\n",
       " 'in_reply_to_user_id': None,\n",
       " 'in_reply_to_user_id_str': None,\n",
       " 'in_reply_to_screen_name': None,\n",
       " 'user': {'id': 815733290955112448,\n",
       "  'id_str': '815733290955112448',\n",
       "  'name': 'Rep. Pramila Jayapal',\n",
       "  'screen_name': 'RepJayapal',\n",
       "  'location': 'Seattle, WA',\n",
       "  'description': 'Congresswoman, lifelong organizer, mom. Proudly serving WA-07. Chair of @USProgressives, Member of @HouseJudiciary, @EdLaborCmte & @HouseBudgetDems. She/her.',\n",
       "  'url': 'https://t.co/NfJUzeteop',\n",
       "  'entities': {'url': {'urls': [{'url': 'https://t.co/NfJUzeteop',\n",
       "      'expanded_url': 'https://jayapal.house.gov/',\n",
       "      'display_url': 'jayapal.house.gov',\n",
       "      'indices': [0, 23]}]},\n",
       "   'description': {'urls': []}},\n",
       "  'protected': False,\n",
       "  'followers_count': 627169,\n",
       "  'friends_count': 2725,\n",
       "  'listed_count': 3351,\n",
       "  'created_at': 'Mon Jan 02 01:35:46 +0000 2017',\n",
       "  'favourites_count': 10447,\n",
       "  'utc_offset': None,\n",
       "  'time_zone': None,\n",
       "  'geo_enabled': True,\n",
       "  'verified': True,\n",
       "  'statuses_count': 28235,\n",
       "  'lang': None,\n",
       "  'contributors_enabled': False,\n",
       "  'is_translator': False,\n",
       "  'is_translation_enabled': False,\n",
       "  'profile_background_color': '000000',\n",
       "  'profile_background_image_url': 'http://abs.twimg.com/images/themes/theme1/bg.png',\n",
       "  'profile_background_image_url_https': 'https://abs.twimg.com/images/themes/theme1/bg.png',\n",
       "  'profile_background_tile': False,\n",
       "  'profile_image_url': 'http://pbs.twimg.com/profile_images/978268908057751552/LdIDc0tc_normal.jpg',\n",
       "  'profile_image_url_https': 'https://pbs.twimg.com/profile_images/978268908057751552/LdIDc0tc_normal.jpg',\n",
       "  'profile_banner_url': 'https://pbs.twimg.com/profile_banners/815733290955112448/1522072475',\n",
       "  'profile_link_color': '1B95E0',\n",
       "  'profile_sidebar_border_color': '000000',\n",
       "  'profile_sidebar_fill_color': '000000',\n",
       "  'profile_text_color': '000000',\n",
       "  'profile_use_background_image': False,\n",
       "  'has_extended_profile': False,\n",
       "  'default_profile': False,\n",
       "  'default_profile_image': False,\n",
       "  'following': False,\n",
       "  'follow_request_sent': False,\n",
       "  'notifications': False,\n",
       "  'translator_type': 'none',\n",
       "  'withheld_in_countries': []},\n",
       " 'geo': None,\n",
       " 'coordinates': None,\n",
       " 'place': None,\n",
       " 'contributors': None,\n",
       " 'is_quote_status': False,\n",
       " 'retweet_count': 5265,\n",
       " 'favorite_count': 27096,\n",
       " 'favorited': False,\n",
       " 'retweeted': False,\n",
       " 'lang': 'en'}"
      ]
     },
     "execution_count": 2,
     "metadata": {},
     "output_type": "execute_result"
    }
   ],
   "source": [
    "response[0]._json"
   ]
  },
  {
   "cell_type": "code",
   "execution_count": 3,
   "metadata": {},
   "outputs": [
    {
     "data": {
      "text/plain": [
       "\"It's the filibuster or gun reform. It's the filibuster or abortion. It's the filibuster or voting rights. This shouldn't be a hard decision.\""
      ]
     },
     "execution_count": 3,
     "metadata": {},
     "output_type": "execute_result"
    }
   ],
   "source": [
    "response[0]._json['text']"
   ]
  },
  {
   "cell_type": "code",
   "execution_count": 1,
   "metadata": {},
   "outputs": [],
   "source": [
    "import boto3\n",
    "import json\n",
    "\n",
    "sqs = boto3.client('sqs')\n",
    "aws_lambda = boto3.client('lambda')\n",
    "iam_client = boto3.client('iam')\n",
    "role = iam_client.get_role(RoleName='LabRole')\n",
    "dynamodb = boto3.resource('dynamodb')\n",
    "dynamo_client = boto3.client('dynamodb')\n",
    "s3 = boto3.client('s3')\n",
    "s3_resource = boto3.resource('s3')"
   ]
  },
  {
   "cell_type": "code",
   "execution_count": 2,
   "metadata": {},
   "outputs": [],
   "source": [
    "# Create S3 bucket to store raw JSON data\n",
    "s3.create_bucket(Bucket='raw-tweet-bucket')\n",
    "s3.create_bucket(Bucket='tweet-text-bucket')\n",
    "\n",
    "# Create DynamoDB Table for storing processed data\n",
    "# 'id' will be userID\n",
    "try:\n",
    "    table = dynamodb.create_table(\n",
    "        TableName='tweet_DB',\n",
    "        KeySchema=[\n",
    "            {\n",
    "                'AttributeName': 'id',\n",
    "                'KeyType': 'HASH'\n",
    "            }\n",
    "        ],\n",
    "        AttributeDefinitions=[\n",
    "            {\n",
    "                'AttributeName': 'id',\n",
    "                'AttributeType': 'S'\n",
    "            }\n",
    "        ],\n",
    "        ProvisionedThroughput={\n",
    "            'ReadCapacityUnits': 1,\n",
    "            'WriteCapacityUnits': 1\n",
    "        }    \n",
    "    )\n",
    "except dynamo_client.exceptions.ResourceInUseException:\n",
    "    table = dynamodb.Table('tweet_DB')\n",
    "\n",
    "# Wait until AWS confirms that table exists before moving on\n",
    "table.meta.client.get_waiter('table_exists').wait(TableName='tweet_DB')"
   ]
  },
  {
   "cell_type": "code",
   "execution_count": 17,
   "metadata": {},
   "outputs": [
    {
     "name": "stdout",
     "output_type": "stream",
     "text": [
      "SQS -> Lambda Architecture has been Launched\n"
     ]
    }
   ],
   "source": [
    "# Create Lambda Function\n",
    "with open('./deployment.zip', 'rb') as f:\n",
    "    lambda_zip = f.read()\n",
    "\n",
    "try:\n",
    "    # If function hasn't yet been created, create it\n",
    "    response = aws_lambda.create_function(\n",
    "        FunctionName='tweet_lambda',\n",
    "        Runtime='python3.9',\n",
    "        Role=role['Role']['Arn'],\n",
    "        Handler='lambda_function.lambda_handler',\n",
    "        Code=dict(ZipFile=lambda_zip),\n",
    "        Timeout=3\n",
    "    )\n",
    "except aws_lambda.exceptions.ResourceConflictException:\n",
    "    # If function already exists, update it based on zip file contents\n",
    "    response = aws_lambda.update_function_code(\n",
    "    FunctionName='tweet_lambda',\n",
    "    ZipFile=lambda_zip\n",
    "    )\n",
    "\n",
    "lambda_arn = response['FunctionArn']  \n",
    "\n",
    "# Create SQS Queue\n",
    "try:\n",
    "    queue_url = sqs.create_queue(QueueName='Tweet')['QueueUrl']\n",
    "except sqs.exceptions.QueueNameExists:\n",
    "    queue_url = [url\n",
    "                 for url in sqs.list_queues()['QueueUrls']\n",
    "                 if 'Tweet' in url][0]\n",
    "    \n",
    "sqs_info = sqs.get_queue_attributes(QueueUrl=queue_url,\n",
    "                                    AttributeNames=['QueueArn'])\n",
    "sqs_arn = sqs_info['Attributes']['QueueArn']\n",
    "\n",
    "# Trigger Lambda Function when new data enter SQS Queue\n",
    "try:\n",
    "    response = aws_lambda.create_event_source_mapping(\n",
    "        EventSourceArn=sqs_arn,\n",
    "        FunctionName='tweet_lambda',\n",
    "        Enabled=True,\n",
    "        BatchSize=10\n",
    "    )\n",
    "except aws_lambda.exceptions.ResourceConflictException:\n",
    "    es_id = aws_lambda.list_event_source_mappings(\n",
    "        EventSourceArn=sqs_arn,\n",
    "        FunctionName='tweet_lambda'\n",
    "    )['EventSourceMappings'][0]['UUID']\n",
    "    \n",
    "    response = aws_lambda.update_event_source_mapping(\n",
    "        UUID=es_id,\n",
    "        FunctionName='tweet_lambda',\n",
    "        Enabled=True,\n",
    "        BatchSize=10\n",
    "    )\n",
    "\n",
    "# get data about table (should currently be no items in table)\n",
    "print(\"SQS -> Lambda Architecture has been Launched\")"
   ]
  },
  {
   "cell_type": "code",
   "execution_count": 18,
   "metadata": {},
   "outputs": [],
   "source": [
    "def send_request(parameters, sqs_url):\n",
    "    response = sqs.send_message(QueueUrl=sqs_url,\n",
    "                                MessageBody=json.dumps(parameters))\n",
    "    return response['ResponseMetadata']['HTTPStatusCode']\n"
   ]
  },
  {
   "cell_type": "code",
   "execution_count": 19,
   "metadata": {},
   "outputs": [
    {
     "data": {
      "text/plain": [
       "200"
      ]
     },
     "execution_count": 19,
     "metadata": {},
     "output_type": "execute_result"
    }
   ],
   "source": [
    "param = {\n",
    "    \"keyword\": \"abortion\",\n",
    "}\n",
    "send_request(param, sqs_url=queue_url)"
   ]
  },
  {
   "cell_type": "code",
   "execution_count": null,
   "metadata": {},
   "outputs": [],
   "source": []
  }
 ],
 "metadata": {
  "interpreter": {
   "hash": "40d3a090f54c6569ab1632332b64b2c03c39dcf918b08424e98f38b5ae0af88f"
  },
  "kernelspec": {
   "display_name": "Python 3.9.7 ('base')",
   "language": "python",
   "name": "python3"
  },
  "language_info": {
   "codemirror_mode": {
    "name": "ipython",
    "version": 3
   },
   "file_extension": ".py",
   "mimetype": "text/x-python",
   "name": "python",
   "nbconvert_exporter": "python",
   "pygments_lexer": "ipython3",
   "version": "3.9.7"
  },
  "orig_nbformat": 4
 },
 "nbformat": 4,
 "nbformat_minor": 2
}
