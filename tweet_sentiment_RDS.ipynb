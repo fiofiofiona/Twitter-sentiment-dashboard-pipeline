{
 "cells": [
  {
   "cell_type": "code",
   "execution_count": 4,
   "id": "ad677c45",
   "metadata": {},
   "outputs": [],
   "source": [
    "import boto3"
   ]
  },
  {
   "cell_type": "code",
   "execution_count": 5,
   "id": "a7ce6181",
   "metadata": {},
   "outputs": [],
   "source": [
    "# Create Lambda Function\n",
    "aws_lambda = boto3.client('lambda')\n",
    "iam_client = boto3.client('iam')\n",
    "role = iam_client.get_role(RoleName='LabRole')\n",
    "\n",
    "with open('twitter_sentiment-deployment-package.zip', 'rb') as f:\n",
    "    lambda_zip = f.read()\n",
    "\n",
    "try:\n",
    "    # If function hasn't yet been created, create it\n",
    "    response = aws_lambda.create_function(\n",
    "        FunctionName='twitter_sentiment',\n",
    "        Runtime='python3.9',\n",
    "        Role=role['Role']['Arn'],\n",
    "        Handler='lambda_function.lambda_handler',\n",
    "        Code=dict(ZipFile=lambda_zip),\n",
    "        Timeout=100\n",
    "    )\n",
    "except aws_lambda.exceptions.ResourceConflictException:\n",
    "    # If function already exists, update it based on zip\n",
    "    # file contents\n",
    "    response = aws_lambda.update_function_code(\n",
    "    FunctionName='twitter_sentiment',\n",
    "    ZipFile=lambda_zip\n",
    "    )\n",
    "\n",
    "lambda_arn = response['FunctionArn']    \n"
   ]
  },
  {
   "cell_type": "code",
   "execution_count": 6,
   "id": "96f1a3ca",
   "metadata": {},
   "outputs": [],
   "source": [
    "!python sfn_setup.py"
   ]
  },
  {
   "cell_type": "code",
   "execution_count": null,
   "id": "695ebecb",
   "metadata": {},
   "outputs": [],
   "source": []
  }
 ],
 "metadata": {
  "interpreter": {
   "hash": "40d3a090f54c6569ab1632332b64b2c03c39dcf918b08424e98f38b5ae0af88f"
  },
  "kernelspec": {
   "display_name": "Python 3.9.7 ('base')",
   "language": "python",
   "name": "python3"
  },
  "language_info": {
   "codemirror_mode": {
    "name": "ipython",
    "version": 3
   },
   "file_extension": ".py",
   "mimetype": "text/x-python",
   "name": "python",
   "nbconvert_exporter": "python",
   "pygments_lexer": "ipython3",
   "version": "3.9.7"
  }
 },
 "nbformat": 4,
 "nbformat_minor": 5
}
