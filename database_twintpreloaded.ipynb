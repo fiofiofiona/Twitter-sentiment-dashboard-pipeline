{
 "cells": [
  {
   "cell_type": "code",
   "execution_count": 18,
   "metadata": {},
   "outputs": [],
   "source": [
    "###NEW CHUNK\n",
    "import json\n",
    "f = open('/Users/emilyyeh/Documents/MACS 30123/abortion.json') #CHANGE THIS LINE\n",
    "data = json.load(f)"
   ]
  },
  {
   "cell_type": "code",
   "execution_count": 20,
   "metadata": {},
   "outputs": [
    {
     "data": {
      "text/plain": [
       "dict_keys(['id', 'conversation_id', 'created_at', 'date', 'timezone', 'place', 'tweet', 'language', 'hashtags', 'cashtags', 'user_id', 'user_id_str', 'username', 'name', 'day', 'hour', 'link', 'urls', 'photos', 'video', 'thumbnail', 'retweet', 'nlikes', 'nreplies', 'nretweets', 'quote_url', 'search', 'near', 'geo', 'source', 'user_rt_id', 'user_rt', 'retweet_id', 'reply_to', 'retweet_date', 'translate', 'trans_src', 'trans_dest'])"
      ]
     },
     "execution_count": 20,
     "metadata": {},
     "output_type": "execute_result"
    }
   ],
   "source": [
    "###NEW CHUNK\n",
    "data['0'].keys()"
   ]
  },
  {
   "cell_type": "code",
   "execution_count": 28,
   "metadata": {},
   "outputs": [],
   "source": [
    "###NEW CHUNK\n",
    "for r in data.values():\n",
    "    tweet_dict = {\n",
    "                'id': r['id'],\n",
    "                'TimeStamp': r['created_at'],\n",
    "                'Twitter account': r['user_id'],\n",
    "                'Num of comments/retweets': r['nretweets'],\n",
    "                'Likes': r['nlikes'],\n",
    "                'Reply_to': r['reply_to']\n",
    "            }"
   ]
  },
  {
   "cell_type": "code",
   "execution_count": null,
   "metadata": {},
   "outputs": [],
   "source": [
    "### {“tweet content” :{ Timestamp: DDMMYYYY, Twitter account (str), Num of comments/retweets (int):, Comment sentiment (str):, Tweet sentiment (str):, } }\n",
    "\n",
    "# 1. request (parameters) --> sqs --> tweepy access data\n",
    "# 2. (select data) data --> dump to s3\n",
    "# 3. select data to store in dynamodb?\n",
    "# 4. conduct sentiment analysis on data --> store in dynamodb? // parallelize by sfn\n",
    "# 5. spark app?\n"
   ]
  },
  {
   "cell_type": "code",
   "execution_count": 3,
   "metadata": {},
   "outputs": [
    {
     "data": {
      "text/plain": [
       "{'id': 1524707709190352896,\n",
       " 'TimeStamp': 'Thu May 12 11:07:00 +0000 2022',\n",
       " 'Twitter account': '26458435',\n",
       " 'Num of comments/retweets': 11257}"
      ]
     },
     "execution_count": 3,
     "metadata": {},
     "output_type": "execute_result"
    }
   ],
   "source": [
    "# item_dict = {\n",
    "#             'id': survey_data['id'],\n",
    "#             'TimeStamp': survey_data['created_at'],\n",
    "#             'Twitter account': survey_data['user']['id_str'],\n",
    "#             'Num of comments/retweets': survey_data['retweet_count'],\n",
    "#             'Likes': survey_data['favourites_count'],\n",
    "#             # 'Comment sentiment': report_times,\n",
    "#             # 'Tweet sentiment': \n",
    "#         }\n",
    "# item_dict"
   ]
  },
  {
   "cell_type": "code",
   "execution_count": 11,
   "metadata": {},
   "outputs": [
    {
     "name": "stdout",
     "output_type": "stream",
     "text": [
      "Requirement already satisfied: tweepy in /opt/anaconda3/lib/python3.7/site-packages (4.8.0)\n",
      "Requirement already satisfied: requests-oauthlib<2,>=1.2.0 in /opt/anaconda3/lib/python3.7/site-packages (from tweepy) (1.3.0)\n",
      "Requirement already satisfied: oauthlib<4,>=3.2.0 in /opt/anaconda3/lib/python3.7/site-packages (from tweepy) (3.2.0)\n",
      "Requirement already satisfied: requests<3,>=2.27.0 in /opt/anaconda3/lib/python3.7/site-packages (from tweepy) (2.27.1)\n",
      "Requirement already satisfied: charset-normalizer~=2.0.0 in /opt/anaconda3/lib/python3.7/site-packages (from requests<3,>=2.27.0->tweepy) (2.0.7)\n",
      "Requirement already satisfied: idna<4,>=2.5 in /Users/emilyyeh/.local/lib/python3.7/site-packages (from requests<3,>=2.27.0->tweepy) (2.7)\n",
      "Requirement already satisfied: urllib3<1.27,>=1.21.1 in /opt/anaconda3/lib/python3.7/site-packages (from requests<3,>=2.27.0->tweepy) (1.25.11)\n",
      "Requirement already satisfied: certifi>=2017.4.17 in /opt/anaconda3/lib/python3.7/site-packages (from requests<3,>=2.27.0->tweepy) (2021.10.8)\n"
     ]
    }
   ],
   "source": [
    "!pip install tweepy"
   ]
  },
  {
   "cell_type": "code",
   "execution_count": 12,
   "metadata": {},
   "outputs": [],
   "source": [
    "import tweepy\n",
    "import json\n",
    "\n",
    "keys = {'consumer_key' : \"tr0R2Csjg2rKqWbaTGnvCOLKo\",\n",
    "        'consumer_secret' : \"pqd5aVWeypQq3KrUXxUxY5MTJEwUq25unlDApNRTzq78rUT38K\",\n",
    "        'access_token' : \"819043815604375552-gp2URG92uuUTVtNTJbOzbKZMkgG1yey\",\n",
    "        'access_token_secret' : \"5FQhsXDoSjlnwqo6ortXWbmqvqRWjpmfFc2ueirAYhn4w\"}\n",
    "auth = tweepy.OAuth1UserHandler(consumer_key=keys.get('consumer_key'), \n",
    "                                    consumer_secret=keys.get('consumer_secret'), \n",
    "                                    access_token=keys.get('access_token'),\n",
    "                                    access_token_secret=keys.get('access_token_secret'))\n",
    "api = tweepy.API(auth)\n",
    "response = api.search_tweets('abortion', lang = 'en', result_type = 'mixed')\n",
    "# json.dumps(response, default=str)\n"
   ]
  },
  {
   "cell_type": "code",
   "execution_count": 10,
   "metadata": {},
   "outputs": [
    {
     "data": {
      "text/plain": [
       "15"
      ]
     },
     "execution_count": 10,
     "metadata": {},
     "output_type": "execute_result"
    }
   ],
   "source": [
    "len(response)"
   ]
  },
  {
   "cell_type": "code",
   "execution_count": 12,
   "metadata": {},
   "outputs": [
    {
     "data": {
      "text/plain": [
       "{'created_at': 'Tue May 31 16:30:00 +0000 2022',\n",
       " 'id': 1531674365242359808,\n",
       " 'id_str': '1531674365242359808',\n",
       " 'text': \"It's the filibuster or gun reform. It's the filibuster or abortion. It's the filibuster or voting rights. This shouldn't be a hard decision.\",\n",
       " 'truncated': False,\n",
       " 'entities': {'hashtags': [], 'symbols': [], 'user_mentions': [], 'urls': []},\n",
       " 'metadata': {'result_type': 'popular', 'iso_language_code': 'en'},\n",
       " 'source': '<a href=\"https://about.twitter.com/products/tweetdeck\" rel=\"nofollow\">TweetDeck</a>',\n",
       " 'in_reply_to_status_id': None,\n",
       " 'in_reply_to_status_id_str': None,\n",
       " 'in_reply_to_user_id': None,\n",
       " 'in_reply_to_user_id_str': None,\n",
       " 'in_reply_to_screen_name': None,\n",
       " 'user': {'id': 815733290955112448,\n",
       "  'id_str': '815733290955112448',\n",
       "  'name': 'Rep. Pramila Jayapal',\n",
       "  'screen_name': 'RepJayapal',\n",
       "  'location': 'Seattle, WA',\n",
       "  'description': 'Congresswoman, lifelong organizer, mom. Proudly serving WA-07. Chair of @USProgressives, Member of @HouseJudiciary, @EdLaborCmte & @HouseBudgetDems. She/her.',\n",
       "  'url': 'https://t.co/NfJUzeteop',\n",
       "  'entities': {'url': {'urls': [{'url': 'https://t.co/NfJUzeteop',\n",
       "      'expanded_url': 'https://jayapal.house.gov/',\n",
       "      'display_url': 'jayapal.house.gov',\n",
       "      'indices': [0, 23]}]},\n",
       "   'description': {'urls': []}},\n",
       "  'protected': False,\n",
       "  'followers_count': 627273,\n",
       "  'friends_count': 2726,\n",
       "  'listed_count': 3354,\n",
       "  'created_at': 'Mon Jan 02 01:35:46 +0000 2017',\n",
       "  'favourites_count': 10447,\n",
       "  'utc_offset': None,\n",
       "  'time_zone': None,\n",
       "  'geo_enabled': True,\n",
       "  'verified': True,\n",
       "  'statuses_count': 28236,\n",
       "  'lang': None,\n",
       "  'contributors_enabled': False,\n",
       "  'is_translator': False,\n",
       "  'is_translation_enabled': False,\n",
       "  'profile_background_color': '000000',\n",
       "  'profile_background_image_url': 'http://abs.twimg.com/images/themes/theme1/bg.png',\n",
       "  'profile_background_image_url_https': 'https://abs.twimg.com/images/themes/theme1/bg.png',\n",
       "  'profile_background_tile': False,\n",
       "  'profile_image_url': 'http://pbs.twimg.com/profile_images/978268908057751552/LdIDc0tc_normal.jpg',\n",
       "  'profile_image_url_https': 'https://pbs.twimg.com/profile_images/978268908057751552/LdIDc0tc_normal.jpg',\n",
       "  'profile_banner_url': 'https://pbs.twimg.com/profile_banners/815733290955112448/1522072475',\n",
       "  'profile_link_color': '1B95E0',\n",
       "  'profile_sidebar_border_color': '000000',\n",
       "  'profile_sidebar_fill_color': '000000',\n",
       "  'profile_text_color': '000000',\n",
       "  'profile_use_background_image': False,\n",
       "  'has_extended_profile': False,\n",
       "  'default_profile': False,\n",
       "  'default_profile_image': False,\n",
       "  'following': False,\n",
       "  'follow_request_sent': False,\n",
       "  'notifications': False,\n",
       "  'translator_type': 'none',\n",
       "  'withheld_in_countries': []},\n",
       " 'geo': None,\n",
       " 'coordinates': None,\n",
       " 'place': None,\n",
       " 'contributors': None,\n",
       " 'is_quote_status': False,\n",
       " 'retweet_count': 5326,\n",
       " 'favorite_count': 27356,\n",
       " 'favorited': False,\n",
       " 'retweeted': False,\n",
       " 'lang': 'en'}"
      ]
     },
     "execution_count": 12,
     "metadata": {},
     "output_type": "execute_result"
    }
   ],
   "source": [
    "response[0]._json"
   ]
  },
  {
   "cell_type": "code",
   "execution_count": 10,
   "metadata": {},
   "outputs": [],
   "source": [
    "import boto3\n",
    "import json\n",
    "import dataset\n",
    "\n",
    "sqs = boto3.client('sqs')\n",
    "aws_lambda = boto3.client('lambda')\n",
    "iam_client = boto3.client('iam')\n",
    "role = iam_client.get_role(RoleName='LabRole')\n",
    "dynamodb = boto3.resource('dynamodb')\n",
    "dynamo_client = boto3.client('dynamodb')\n",
    "s3 = boto3.client('s3')\n",
    "s3_resource = boto3.resource('s3')\n",
    "rds = boto3.client('rds')"
   ]
  },
  {
   "cell_type": "code",
   "execution_count": 11,
   "metadata": {},
   "outputs": [
    {
     "data": {
      "text/plain": [
       "{'ResponseMetadata': {'RequestId': 'FY7052SB0NQX3NQW',\n",
       "  'HostId': 'LcxY/ctrAVlk/AwcCItCnm+yg88vgAPQI8cwGNo4Zlx/tA8s10641XRa9Y9SLgSq6m20yPtgV/M=',\n",
       "  'HTTPStatusCode': 200,\n",
       "  'HTTPHeaders': {'x-amz-id-2': 'LcxY/ctrAVlk/AwcCItCnm+yg88vgAPQI8cwGNo4Zlx/tA8s10641XRa9Y9SLgSq6m20yPtgV/M=',\n",
       "   'x-amz-request-id': 'FY7052SB0NQX3NQW',\n",
       "   'date': 'Wed, 01 Jun 2022 20:27:48 GMT',\n",
       "   'location': '/tweet-text-bucket',\n",
       "   'server': 'AmazonS3',\n",
       "   'content-length': '0'},\n",
       "  'RetryAttempts': 0},\n",
       " 'Location': '/tweet-text-bucket'}"
      ]
     },
     "execution_count": 11,
     "metadata": {},
     "output_type": "execute_result"
    }
   ],
   "source": [
    "# Create S3 bucket to store raw JSON data\n",
    "s3.create_bucket(Bucket='raw-tweet-bucket')\n",
    "s3.create_bucket(Bucket='tweet-text-bucket')\n",
    "\n",
    "# Create DynamoDB Table for storing processed data\n",
    "# 'id' will be userID\n",
    "# try:\n",
    "#     table = dynamodb.create_table(\n",
    "#         TableName='tweet_DB',\n",
    "#         KeySchema=[\n",
    "#             {\n",
    "#                 'AttributeName': 'id',\n",
    "#                 'KeyType': 'HASH'\n",
    "#             }\n",
    "#         ],\n",
    "#         AttributeDefinitions=[\n",
    "#             {\n",
    "#                 'AttributeName': 'id',\n",
    "#                 'AttributeType': 'S'\n",
    "#             }\n",
    "#         ],\n",
    "#         ProvisionedThroughput={\n",
    "#             'ReadCapacityUnits': 1,\n",
    "#             'WriteCapacityUnits': 1\n",
    "#         }    \n",
    "#     )\n",
    "# except dynamo_client.exceptions.ResourceInUseException:\n",
    "#     table = dynamodb.Table('tweet_DB')\n",
    "\n",
    "# # Wait until AWS confirms that table exists before moving on\n",
    "# table.meta.client.get_waiter('table_exists').wait(TableName='tweet_DB')"
   ]
  },
  {
   "cell_type": "code",
   "execution_count": 12,
   "metadata": {},
   "outputs": [
    {
     "name": "stdout",
     "output_type": "stream",
     "text": [
      "relational-db is available at relational-db.ccps3ediik0q.us-east-1.rds.amazonaws.com on Port 3306\n"
     ]
    }
   ],
   "source": [
    "try:\n",
    "    response = rds.create_db_instance(\n",
    "        DBInstanceIdentifier='relational-db',\n",
    "        DBName='twitter_sentiment',\n",
    "        MasterUsername='username',\n",
    "        MasterUserPassword='password',\n",
    "        DBInstanceClass='db.t2.micro',\n",
    "        Engine='MySQL',\n",
    "        AllocatedStorage=5\n",
    "    )\n",
    "except:\n",
    "    pass\n",
    "\n",
    "# Wait until DB is available to continue\n",
    "rds.get_waiter('db_instance_available').wait(DBInstanceIdentifier='relational-db')\n",
    "\n",
    "# Describe where DB is available and on what port\n",
    "db = rds.describe_db_instances()['DBInstances'][0]\n",
    "ENDPOINT = db['Endpoint']['Address']\n",
    "PORT = db['Endpoint']['Port']\n",
    "DBID = db['DBInstanceIdentifier']\n",
    "\n",
    "print(DBID,\n",
    "      \"is available at\", ENDPOINT,\n",
    "      \"on Port\", PORT,\n",
    "     )   "
   ]
  },
  {
   "cell_type": "code",
   "execution_count": 13,
   "metadata": {},
   "outputs": [
    {
     "name": "stdout",
     "output_type": "stream",
     "text": [
      "Permissions already adjusted.\n"
     ]
    }
   ],
   "source": [
    "# Get Name of Security Group\n",
    "SGNAME = db['VpcSecurityGroups'][0]['VpcSecurityGroupId']\n",
    "\n",
    "# Adjust Permissions for that security group so that we can access it on Port 3306\n",
    "# If already SG is already adjusted, print this out\n",
    "try:\n",
    "    ec2 = boto3.client('ec2')\n",
    "    data = ec2.authorize_security_group_ingress(\n",
    "            GroupId=SGNAME,\n",
    "            IpPermissions=[\n",
    "                {'IpProtocol': 'tcp',\n",
    "                 'FromPort': PORT,\n",
    "                 'ToPort': PORT,\n",
    "                 'IpRanges': [{'CidrIp': '0.0.0.0/0'}]}\n",
    "            ]\n",
    "    )\n",
    "except ec2.exceptions.ClientError as e:\n",
    "    if e.response[\"Error\"][\"Code\"] == 'InvalidPermission.Duplicate':\n",
    "        print(\"Permissions already adjusted.\")\n",
    "    else:\n",
    "        print(e)"
   ]
  },
  {
   "cell_type": "code",
   "execution_count": 45,
   "metadata": {},
   "outputs": [],
   "source": [
    "# connect to RDS\n",
    "db_url = 'mysql+mysqlconnector://{}:{}@{}:{}/twitter_sentiment'.format('username', 'password', ENDPOINT, PORT)\n",
    "db = dataset.connect(db_url)"
   ]
  },
  {
   "cell_type": "code",
   "execution_count": 35,
   "metadata": {},
   "outputs": [
    {
     "name": "stdout",
     "output_type": "stream",
     "text": [
      "SQS -> Lambda Architecture has been Launched\n"
     ]
    }
   ],
   "source": [
    "# Create Lambda Function\n",
    "with open('./deployment.zip', 'rb') as f:\n",
    "    lambda_zip = f.read()\n",
    "\n",
    "try:\n",
    "    # If function hasn't yet been created, create it\n",
    "    response = aws_lambda.create_function(\n",
    "        FunctionName='tweet_lambda',\n",
    "        Runtime='python3.9',\n",
    "        Role=role['Role']['Arn'],\n",
    "        Handler='lambda_function.lambda_handler',\n",
    "        Code=dict(ZipFile=lambda_zip),\n",
    "        Timeout=3\n",
    "    )\n",
    "except aws_lambda.exceptions.ResourceConflictException:\n",
    "    # If function already exists, update it based on zip file contents\n",
    "    response = aws_lambda.update_function_code(\n",
    "    FunctionName='tweet_lambda',\n",
    "    ZipFile=lambda_zip\n",
    "    )\n",
    "\n",
    "lambda_arn = response['FunctionArn']  \n",
    "\n",
    "# Create SQS Queue\n",
    "try:\n",
    "    queue_url = sqs.create_queue(QueueName='Tweet')['QueueUrl']\n",
    "except sqs.exceptions.QueueNameExists:\n",
    "    queue_url = [url\n",
    "                 for url in sqs.list_queues()['QueueUrls']\n",
    "                 if 'Tweet' in url][0]\n",
    "    \n",
    "sqs_info = sqs.get_queue_attributes(QueueUrl=queue_url,\n",
    "                                    AttributeNames=['QueueArn'])\n",
    "sqs_arn = sqs_info['Attributes']['QueueArn']\n",
    "\n",
    "# Trigger Lambda Function when new data enter SQS Queue\n",
    "try:\n",
    "    response = aws_lambda.create_event_source_mapping(\n",
    "        EventSourceArn=sqs_arn,\n",
    "        FunctionName='tweet_lambda',\n",
    "        Enabled=True,\n",
    "        BatchSize=10\n",
    "    )\n",
    "except aws_lambda.exceptions.ResourceConflictException:\n",
    "    es_id = aws_lambda.list_event_source_mappings(\n",
    "        EventSourceArn=sqs_arn,\n",
    "        FunctionName='tweet_lambda'\n",
    "    )['EventSourceMappings'][0]['UUID']\n",
    "    \n",
    "    response = aws_lambda.update_event_source_mapping(\n",
    "        UUID=es_id,\n",
    "        FunctionName='tweet_lambda',\n",
    "        Enabled=True,\n",
    "        BatchSize=10\n",
    "    )\n",
    "\n",
    "# get data about table (should currently be no items in table)\n",
    "print(\"SQS -> Lambda Architecture has been Launched\")"
   ]
  },
  {
   "cell_type": "code",
   "execution_count": 40,
   "metadata": {},
   "outputs": [],
   "source": [
    "with open('twitter_sentiment_deployment_package.zip', 'rb') as f:\n",
    "    lambda_zip = f.read()\n",
    "\n",
    "try:\n",
    "    # If function hasn't yet been created, create it\n",
    "    response = aws_lambda.create_function(\n",
    "        FunctionName='twitter_sentiment',\n",
    "        Runtime='python3.9',\n",
    "        Role=role['Role']['Arn'],\n",
    "        Handler='lambda_function.lambda_handler',\n",
    "        Code=dict(ZipFile=lambda_zip),\n",
    "        Timeout=100\n",
    "    )\n",
    "except aws_lambda.exceptions.ResourceConflictException:\n",
    "    # If function already exists, update it based on zip\n",
    "    # file contents\n",
    "    response = aws_lambda.update_function_code(\n",
    "    FunctionName='twitter_sentiment',\n",
    "    ZipFile=lambda_zip\n",
    "    )\n",
    "\n",
    "lambda_arn = response['FunctionArn']    "
   ]
  },
  {
   "cell_type": "code",
   "execution_count": 41,
   "metadata": {},
   "outputs": [],
   "source": [
    "!python sfn_setup.py"
   ]
  },
  {
   "cell_type": "code",
   "execution_count": 42,
   "metadata": {},
   "outputs": [],
   "source": [
    "def send_request(parameters, sqs_url):\n",
    "    response = sqs.send_message(QueueUrl=sqs_url,\n",
    "                                MessageBody=json.dumps(parameters))\n",
    "                                \n",
    "    return response['ResponseMetadata']['HTTPStatusCode']\n",
    "    # return response"
   ]
  },
  {
   "cell_type": "code",
   "execution_count": 43,
   "metadata": {},
   "outputs": [
    {
     "data": {
      "text/plain": [
       "200"
      ]
     },
     "execution_count": 43,
     "metadata": {},
     "output_type": "execute_result"
    }
   ],
   "source": [
    "param = {\n",
    "    \"keyword\": \"abortion\",\n",
    "}\n",
    "send_request(param, sqs_url=queue_url)"
   ]
  },
  {
   "cell_type": "code",
   "execution_count": 15,
   "metadata": {},
   "outputs": [
    {
     "data": {
      "text/plain": [
       "[{'batch': [{'id': 1531674365242359808,\n",
       "    'TimeStamp': 'Tue May 31 16:30:00 +0000 2022',\n",
       "    'Twitter account': '815733290955112448',\n",
       "    'Num of comments/retweets': 5326,\n",
       "    'Likes': 27356,\n",
       "    'Reply_to': None},\n",
       "   {'id': 1531723932767617024,\n",
       "    'TimeStamp': 'Tue May 31 19:46:58 +0000 2022',\n",
       "    'Twitter account': '878284831',\n",
       "    'Num of comments/retweets': 3905,\n",
       "    'Likes': 13427,\n",
       "    'Reply_to': None}]},\n",
       " {'batch': [{'id': 1531621877726208010,\n",
       "    'TimeStamp': 'Tue May 31 13:01:26 +0000 2022',\n",
       "    'Twitter account': '19706851',\n",
       "    'Num of comments/retweets': 1023,\n",
       "    'Likes': 2077,\n",
       "    'Reply_to': None},\n",
       "   {'id': 1532088007917981696,\n",
       "    'TimeStamp': 'Wed Jun 01 19:53:40 +0000 2022',\n",
       "    'Twitter account': '1311079340168404997',\n",
       "    'Num of comments/retweets': 8,\n",
       "    'Likes': 0,\n",
       "    'Reply_to': None}]},\n",
       " {'batch': [{'id': 1532088005065945091,\n",
       "    'TimeStamp': 'Wed Jun 01 19:53:39 +0000 2022',\n",
       "    'Twitter account': '1224132582717251585',\n",
       "    'Num of comments/retweets': 5326,\n",
       "    'Likes': 0,\n",
       "    'Reply_to': None},\n",
       "   {'id': 1532087999583997952,\n",
       "    'TimeStamp': 'Wed Jun 01 19:53:38 +0000 2022',\n",
       "    'Twitter account': '239074228',\n",
       "    'Num of comments/retweets': 127,\n",
       "    'Likes': 0,\n",
       "    'Reply_to': None}]},\n",
       " {'batch': [{'id': 1532087994932264960,\n",
       "    'TimeStamp': 'Wed Jun 01 19:53:37 +0000 2022',\n",
       "    'Twitter account': '232336477',\n",
       "    'Num of comments/retweets': 11,\n",
       "    'Likes': 0,\n",
       "    'Reply_to': None},\n",
       "   {'id': 1532087982953533441,\n",
       "    'TimeStamp': 'Wed Jun 01 19:53:34 +0000 2022',\n",
       "    'Twitter account': '551916938',\n",
       "    'Num of comments/retweets': 0,\n",
       "    'Likes': 0,\n",
       "    'Reply_to': 139494411}]},\n",
       " {'batch': [{'id': 1532087979128266754,\n",
       "    'TimeStamp': 'Wed Jun 01 19:53:33 +0000 2022',\n",
       "    'Twitter account': '828380601505951745',\n",
       "    'Num of comments/retweets': 330,\n",
       "    'Likes': 0,\n",
       "    'Reply_to': None},\n",
       "   {'id': 1532087971637231625,\n",
       "    'TimeStamp': 'Wed Jun 01 19:53:31 +0000 2022',\n",
       "    'Twitter account': '1219001960432570368',\n",
       "    'Num of comments/retweets': 0,\n",
       "    'Likes': 0,\n",
       "    'Reply_to': None}]},\n",
       " {'batch': [{'id': 1532087968847998976,\n",
       "    'TimeStamp': 'Wed Jun 01 19:53:31 +0000 2022',\n",
       "    'Twitter account': '267433149',\n",
       "    'Num of comments/retweets': 8676,\n",
       "    'Likes': 0,\n",
       "    'Reply_to': None}]},\n",
       " {'batch': [{'id': 1532087967375773696,\n",
       "    'TimeStamp': 'Wed Jun 01 19:53:30 +0000 2022',\n",
       "    'Twitter account': '899678158500188160',\n",
       "    'Num of comments/retweets': 45,\n",
       "    'Likes': 0,\n",
       "    'Reply_to': None}]},\n",
       " {'batch': [{'id': 1532087966906073089,\n",
       "    'TimeStamp': 'Wed Jun 01 19:53:30 +0000 2022',\n",
       "    'Twitter account': '1204997119574192129',\n",
       "    'Num of comments/retweets': 3,\n",
       "    'Likes': 0,\n",
       "    'Reply_to': None}]},\n",
       " {'batch': [{'id': 1532087963877777410,\n",
       "    'TimeStamp': 'Wed Jun 01 19:53:30 +0000 2022',\n",
       "    'Twitter account': '192959969',\n",
       "    'Num of comments/retweets': 5,\n",
       "    'Likes': 0,\n",
       "    'Reply_to': None}]},\n",
       " {'batch': [{'id': 1532087957053657089,\n",
       "    'TimeStamp': 'Wed Jun 01 19:53:28 +0000 2022',\n",
       "    'Twitter account': '1287547293638459392',\n",
       "    'Num of comments/retweets': 0,\n",
       "    'Likes': 0,\n",
       "    'Reply_to': 45550693}]}]"
      ]
     },
     "execution_count": 15,
     "metadata": {},
     "output_type": "execute_result"
    }
   ],
   "source": [
    "tweet_batches = [{'batch': []} for i in range(10)]\n",
    "batch_size = int(len(response)/10)\n",
    "remaining = len(response)%10\n",
    "batch_num = 0\n",
    "\n",
    "for r in response:\n",
    "    tweet_dict = {\n",
    "                'id': r._json['id'],\n",
    "                'TimeStamp': r._json['created_at'],\n",
    "                'Twitter account': r._json['user']['id_str'],\n",
    "                'Num of comments/retweets': r._json['retweet_count'],\n",
    "                'Likes': r._json['favorite_count'],\n",
    "                'Reply_to': r._json['in_reply_to_user_id']\n",
    "            }\n",
    "    tweet_batches[batch_num]['batch'].append(tweet_dict)\n",
    "    if len(tweet_batches[batch_num]['batch']) == batch_size:\n",
    "        if remaining > 0:\n",
    "            remaining -=1 \n",
    "            continue\n",
    "    batch_num += 1\n",
    "\n",
    "tweet_batches"
   ]
  },
  {
   "cell_type": "code",
   "execution_count": 14,
   "metadata": {},
   "outputs": [
    {
     "data": {
      "text/plain": [
       "1"
      ]
     },
     "execution_count": 14,
     "metadata": {},
     "output_type": "execute_result"
    }
   ],
   "source": [
    "batch_size"
   ]
  },
  {
   "cell_type": "code",
   "execution_count": 46,
   "metadata": {},
   "outputs": [
    {
     "data": {
      "text/plain": [
       "['id', 'tweet_id', 'sentiment', 'sentiment_score']"
      ]
     },
     "execution_count": 46,
     "metadata": {},
     "output_type": "execute_result"
    }
   ],
   "source": [
    "db['tweets_table'].columns"
   ]
  },
  {
   "cell_type": "code",
   "execution_count": 47,
   "metadata": {},
   "outputs": [
    {
     "data": {
      "text/plain": [
       "[OrderedDict([('id', 10),\n",
       "              ('tweet_id', 1532101611526336512),\n",
       "              ('sentiment', 'NEGATIVE'),\n",
       "              ('sentiment_score',\n",
       "               {'Mixed': 0.0013486267998814585,\n",
       "                'Neutral': 0.14896191656589508,\n",
       "                'Negative': 0.843500554561615,\n",
       "                'Positive': 0.006188936531543732})])]"
      ]
     },
     "execution_count": 47,
     "metadata": {},
     "output_type": "execute_result"
    }
   ],
   "source": [
    "list(db['tweets_table'].find(id=10))"
   ]
  },
  {
   "cell_type": "code",
   "execution_count": null,
   "metadata": {},
   "outputs": [],
   "source": []
  }
 ],
 "metadata": {
  "interpreter": {
   "hash": "40d3a090f54c6569ab1632332b64b2c03c39dcf918b08424e98f38b5ae0af88f"
  },
  "kernelspec": {
   "display_name": "Python 3",
   "language": "python",
   "name": "python3"
  },
  "language_info": {
   "codemirror_mode": {
    "name": "ipython",
    "version": 3
   },
   "file_extension": ".py",
   "mimetype": "text/x-python",
   "name": "python",
   "nbconvert_exporter": "python",
   "pygments_lexer": "ipython3",
   "version": "3.7.10"
  }
 },
 "nbformat": 4,
 "nbformat_minor": 2
}
